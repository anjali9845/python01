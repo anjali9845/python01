{
  "nbformat": 4,
  "nbformat_minor": 0,
  "metadata": {
    "colab": {
      "provenance": []
    },
    "kernelspec": {
      "name": "python3",
      "display_name": "Python 3"
    },
    "language_info": {
      "name": "python"
    }
  },
  "cells": [
    {
      "cell_type": "markdown",
      "source": [
        "1.What are the two values of the Boolean data type? How do you write them?\n",
        "\n",
        "\n",
        "Ans-  The two values of the Boolean data type are True and False, we write them using capital T and F, with the rest of the word in lowercase."
      ],
      "metadata": {
        "id": "t1VAI0HC7dWp"
      }
    },
    {
      "cell_type": "markdown",
      "source": [
        "2.What are the three different types of Boolean operators?\n",
        "\n",
        "\n",
        "  Ans- The three basic boolean operators are: AND, OR, and NOT"
      ],
      "metadata": {
        "id": "ORd_K2qG7hQc"
      }
    },
    {
      "cell_type": "markdown",
      "source": [
        "3. Make a list of each Boolean operator's truth tables (i.e. every possible combination of Boolean values for the operator and what it evaluate )\n",
        "\n",
        "\n",
        "True and True is True.\n",
        "\n",
        "True and False is False.\n",
        "\n",
        "False and True is False.\n",
        "\n",
        "False and False is False.\n",
        "\n",
        "True or True is True.\n",
        "\n",
        "True or False is True.\n",
        "\n",
        "False or True is True.\n",
        "\n",
        "False or False is False.\n",
        "\n",
        "not True is False.\n",
        "\n",
        "not False is True"
      ],
      "metadata": {
        "id": "V4oc7uKW7toV"
      }
    },
    {
      "cell_type": "markdown",
      "source": [
        "4. What are the values of the following expressions?"
      ],
      "metadata": {
        "id": "PB_hzJTa8sze"
      }
    },
    {
      "cell_type": "code",
      "source": [
        "(5 > 4) and (3 == 5)"
      ],
      "metadata": {
        "colab": {
          "base_uri": "https://localhost:8080/"
        },
        "id": "eUrd1-yX8wVs",
        "outputId": "3c24fcab-cb59-4cde-cd0b-b4bf8ac8bad6"
      },
      "execution_count": 1,
      "outputs": [
        {
          "output_type": "execute_result",
          "data": {
            "text/plain": [
              "False"
            ]
          },
          "metadata": {},
          "execution_count": 1
        }
      ]
    },
    {
      "cell_type": "code",
      "source": [
        "not (5 > 4)"
      ],
      "metadata": {
        "colab": {
          "base_uri": "https://localhost:8080/"
        },
        "id": "ff02ot9e834Q",
        "outputId": "59d36086-9787-4a7b-a16d-2f2d9a8c8e1b"
      },
      "execution_count": 2,
      "outputs": [
        {
          "output_type": "execute_result",
          "data": {
            "text/plain": [
              "False"
            ]
          },
          "metadata": {},
          "execution_count": 2
        }
      ]
    },
    {
      "cell_type": "code",
      "source": [
        "(5 > 4) or (3 == 5)"
      ],
      "metadata": {
        "colab": {
          "base_uri": "https://localhost:8080/"
        },
        "id": "0fj3xxqR85gd",
        "outputId": "10e66ffe-025c-42e4-903c-62bbff75d475"
      },
      "execution_count": 3,
      "outputs": [
        {
          "output_type": "execute_result",
          "data": {
            "text/plain": [
              "True"
            ]
          },
          "metadata": {},
          "execution_count": 3
        }
      ]
    },
    {
      "cell_type": "code",
      "source": [
        "not ((5 > 4) or (3 == 5))"
      ],
      "metadata": {
        "colab": {
          "base_uri": "https://localhost:8080/"
        },
        "id": "zAyEpOvr88Ya",
        "outputId": "bdcac95e-44c7-43f8-bfe0-a53c6de0f11c"
      },
      "execution_count": 4,
      "outputs": [
        {
          "output_type": "execute_result",
          "data": {
            "text/plain": [
              "False"
            ]
          },
          "metadata": {},
          "execution_count": 4
        }
      ]
    },
    {
      "cell_type": "code",
      "source": [
        "(True and True) and (True == False)"
      ],
      "metadata": {
        "colab": {
          "base_uri": "https://localhost:8080/"
        },
        "id": "vUG1r5U19Rn4",
        "outputId": "ed6b851d-d4fe-40c3-b2e3-48aab2f8fccb"
      },
      "execution_count": 5,
      "outputs": [
        {
          "output_type": "execute_result",
          "data": {
            "text/plain": [
              "False"
            ]
          },
          "metadata": {},
          "execution_count": 5
        }
      ]
    },
    {
      "cell_type": "code",
      "source": [
        "(not False) or (not True)"
      ],
      "metadata": {
        "colab": {
          "base_uri": "https://localhost:8080/"
        },
        "id": "uz6XqsMS9Rmc",
        "outputId": "9e1ee1fb-b9c9-4c13-93c1-7fa616b985ce"
      },
      "execution_count": 6,
      "outputs": [
        {
          "output_type": "execute_result",
          "data": {
            "text/plain": [
              "True"
            ]
          },
          "metadata": {},
          "execution_count": 6
        }
      ]
    },
    {
      "cell_type": "markdown",
      "source": [
        "5. What are the six comparison operators?\n",
        "\n",
        "Ans-\n",
        "\n",
        " '==' check wether two quantities are equal.\n",
        "\n",
        " '!=' check wether two quantities are not equal. \n",
        "\n",
        "  '>' greater than \n",
        "\n",
        " '<' less than \n",
        "\n",
        "  '>=' greater than equal to\n",
        " \n",
        "  ' <=' less than equal to"
      ],
      "metadata": {
        "id": "Mq0JSzMs9dBs"
      }
    },
    {
      "cell_type": "markdown",
      "source": [
        "6. How do you tell the difference between the equal to and assignment operators?Describe a condition and when you would use one.\n",
        "\n",
        "\n",
        "ans- Equal to:'=='check whether both values are same.\n",
        "\n",
        "Assignment operators:'=' assign values to variables.\n",
        "\n",
        "z = 2 here we are assigning variable z a value i.e. 2.\n",
        "if 3==5: here we are checking whether 3 is equal to 5 or not. "
      ],
      "metadata": {
        "id": "dQoNHa1B-try"
      }
    },
    {
      "cell_type": "markdown",
      "source": [
        "7.Identify the three blocks in this code:"
      ],
      "metadata": {
        "id": "JorVqHMOAUwi"
      }
    },
    {
      "cell_type": "code",
      "source": [
        "spam = 0                       # Ans: Value Assignment\n",
        "\n",
        "print('eggs')\n",
        "\n",
        "if spam > 5:                  # Ans: If condition\n",
        "\n",
        "   print('bacon')\n",
        "\n",
        "else:                             #  Ans: else block\n",
        "\n",
        "   print('ham')\n",
        "\n",
        "   print('spam')\n",
        "\n",
        "   print('spam')"
      ],
      "metadata": {
        "colab": {
          "base_uri": "https://localhost:8080/"
        },
        "id": "E8GkJv43AuNi",
        "outputId": "cea84b56-c16b-4c3a-89e7-fe421901a295"
      },
      "execution_count": 7,
      "outputs": [
        {
          "output_type": "stream",
          "name": "stdout",
          "text": [
            "eggs\n",
            "ham\n",
            "spam\n",
            "spam\n"
          ]
        }
      ]
    },
    {
      "cell_type": "markdown",
      "source": [
        "8.Write code that prints Hello if 1 is stored in spam, prints Howdy if 2 is stored in spam, and prints Greetings! if anything else is stored in spam."
      ],
      "metadata": {
        "id": "KQvfglEOBJyi"
      }
    },
    {
      "cell_type": "code",
      "source": [
        "spam = 1\n",
        "if spam== 1 :\n",
        "  print(\"Hello\")\n",
        "elif spam == 2:\n",
        "  print('Howdy')  \n",
        "else:\n",
        "  print('Greetings')  "
      ],
      "metadata": {
        "colab": {
          "base_uri": "https://localhost:8080/"
        },
        "id": "xKElPgTZB_VK",
        "outputId": "9c1fe65c-77e7-4f8f-d7ea-1838802f2d25"
      },
      "execution_count": 8,
      "outputs": [
        {
          "output_type": "stream",
          "name": "stdout",
          "text": [
            "Hello\n"
          ]
        }
      ]
    },
    {
      "cell_type": "code",
      "source": [
        "spam = 2\n",
        "if spam== 1 :\n",
        "  print(\"Hello\")\n",
        "elif spam == 2:\n",
        "  print('Howdy')  \n",
        "else:\n",
        "  print('Greetings')"
      ],
      "metadata": {
        "colab": {
          "base_uri": "https://localhost:8080/"
        },
        "id": "CxbAUxMICuvn",
        "outputId": "0cba04e9-e544-4882-8361-e20a14c076f7"
      },
      "execution_count": 9,
      "outputs": [
        {
          "output_type": "stream",
          "name": "stdout",
          "text": [
            "Howdy\n"
          ]
        }
      ]
    },
    {
      "cell_type": "code",
      "source": [
        "spam = 12\n",
        "if spam == 1 :\n",
        "  print(\"Hello\")\n",
        "elif spam == 2:\n",
        "  print('Howdy')  \n",
        "else:\n",
        "  print('Greetings')"
      ],
      "metadata": {
        "colab": {
          "base_uri": "https://localhost:8080/"
        },
        "id": "8NrWEoXZCxUM",
        "outputId": "740ad141-dde9-4b99-bafb-b4888968520d"
      },
      "execution_count": 10,
      "outputs": [
        {
          "output_type": "stream",
          "name": "stdout",
          "text": [
            "Greetings\n"
          ]
        }
      ]
    },
    {
      "cell_type": "markdown",
      "source": [
        "9.If your programme is stuck in an endless loop, what keys you’ll press?\n",
        "\n",
        "\n",
        "Ans- \n",
        "Ctrl+C keys"
      ],
      "metadata": {
        "id": "Fr850qAcBZHx"
      }
    },
    {
      "cell_type": "markdown",
      "source": [
        "10. How can you tell the difference between break and continue?\n",
        "\n",
        "Ans-Break statement makes the control come out of loop.\n",
        "\n",
        "Continue statement takes the control for next iteration."
      ],
      "metadata": {
        "id": "n3yob9RgBajZ"
      }
    },
    {
      "cell_type": "markdown",
      "source": [
        "11. In a for loop, what is the difference between range(10), range(0, 10), and range(0, 10, 1)?\n",
        "\n",
        "\n",
        "Ans- \n",
        "No difference .Range will take value from 0 to 9."
      ],
      "metadata": {
        "id": "Qt0JK78ZBdr1"
      }
    },
    {
      "cell_type": "code",
      "source": [
        "for i in range(10):\n",
        "  print(i)"
      ],
      "metadata": {
        "colab": {
          "base_uri": "https://localhost:8080/"
        },
        "id": "qMBiVPTkEJje",
        "outputId": "1e3fb7af-6231-4a89-e610-30e85ae3a0ed"
      },
      "execution_count": 12,
      "outputs": [
        {
          "output_type": "stream",
          "name": "stdout",
          "text": [
            "0\n",
            "1\n",
            "2\n",
            "3\n",
            "4\n",
            "5\n",
            "6\n",
            "7\n",
            "8\n",
            "9\n"
          ]
        }
      ]
    },
    {
      "cell_type": "code",
      "source": [
        "for i in range(0,10):\n",
        "  print(i)"
      ],
      "metadata": {
        "colab": {
          "base_uri": "https://localhost:8080/"
        },
        "id": "baWR1pBkEbOf",
        "outputId": "dc9e5d3e-4d54-4c27-f8da-f5dc3b104d96"
      },
      "execution_count": 13,
      "outputs": [
        {
          "output_type": "stream",
          "name": "stdout",
          "text": [
            "0\n",
            "1\n",
            "2\n",
            "3\n",
            "4\n",
            "5\n",
            "6\n",
            "7\n",
            "8\n",
            "9\n"
          ]
        }
      ]
    },
    {
      "cell_type": "code",
      "source": [
        "for i in range(0,10,1):\n",
        "  print(i)"
      ],
      "metadata": {
        "colab": {
          "base_uri": "https://localhost:8080/"
        },
        "id": "uxUQHAX-Eedf",
        "outputId": "b621b200-c2c7-4cdc-f48f-ca0569708687"
      },
      "execution_count": 16,
      "outputs": [
        {
          "output_type": "stream",
          "name": "stdout",
          "text": [
            "0\n",
            "1\n",
            "2\n",
            "3\n",
            "4\n",
            "5\n",
            "6\n",
            "7\n",
            "8\n",
            "9\n"
          ]
        }
      ]
    },
    {
      "cell_type": "markdown",
      "source": [
        "12.Write a short program that prints the numbers 1 to 10 using a for loop. Then write an equivalent program that prints the numbers 1 to 10 using a while loop."
      ],
      "metadata": {
        "id": "F_zySlaMBeE1"
      }
    },
    {
      "cell_type": "code",
      "source": [
        "for i in range(1,11):\n",
        "  print(i)"
      ],
      "metadata": {
        "colab": {
          "base_uri": "https://localhost:8080/"
        },
        "id": "toBOWkACEziO",
        "outputId": "36f4b193-aff5-4773-ea99-87422ef12fa6"
      },
      "execution_count": 17,
      "outputs": [
        {
          "output_type": "stream",
          "name": "stdout",
          "text": [
            "1\n",
            "2\n",
            "3\n",
            "4\n",
            "5\n",
            "6\n",
            "7\n",
            "8\n",
            "9\n",
            "10\n"
          ]
        }
      ]
    },
    {
      "cell_type": "code",
      "source": [
        "i=1\n",
        "while i < 11:\n",
        "  print(i)\n",
        "  i = i + 1\n",
        " "
      ],
      "metadata": {
        "colab": {
          "base_uri": "https://localhost:8080/"
        },
        "id": "yHboOiIzE4oP",
        "outputId": "e4e6d38a-c74f-4769-9bd5-28fe1cf28a7d"
      },
      "execution_count": 25,
      "outputs": [
        {
          "output_type": "stream",
          "name": "stdout",
          "text": [
            "1\n",
            "2\n",
            "3\n",
            "4\n",
            "5\n",
            "6\n",
            "7\n",
            "8\n",
            "9\n",
            "10\n"
          ]
        }
      ]
    },
    {
      "cell_type": "markdown",
      "source": [
        "13. If you had a function named bacon() inside a module named spam, how would you call it after importing spam?\n",
        "\n",
        "\n",
        "\n",
        "Ans-This function can be called with spam. bacon()"
      ],
      "metadata": {
        "id": "jL1m42TNBZFw"
      }
    }
  ]
}